{
  "cells": [
    {
      "cell_type": "code",
      "source": [
        "def factorial(n):\n",
        "    if n < 2:\n",
        "        return 1\n",
        "    else:\n",
        "        return n * factorial(n-1)\n",
        "\n",
        "print(factorial(42))\n",
        "factorial.__doc__\n",
        "type(factorial)\n",
        "help(factorial)\n",
        "\n",
        "fact = factorial\n",
        "fact\n",
        "fact(5)\n",
        "map(factorial, range(11))\n",
        "list(map(fact, range(11)))"
      ],
      "metadata": {
        "colab": {
          "base_uri": "https://localhost:8080/"
        },
        "id": "yF4nJ1iuX5X6",
        "outputId": "149f531f-1f74-41a0-c029-7d0ee882835b"
      },
      "execution_count": null,
      "outputs": [
        {
          "output_type": "stream",
          "name": "stdout",
          "text": [
            "1405006117752879898543142606244511569936384000000000\n",
            "Help on function factorial in module __main__:\n",
            "\n",
            "factorial(n)\n",
            "\n"
          ]
        },
        {
          "output_type": "execute_result",
          "data": {
            "text/plain": [
              "[1, 1, 2, 6, 24, 120, 720, 5040, 40320, 362880, 3628800]"
            ]
          },
          "metadata": {},
          "execution_count": 3
        }
      ]
    },
    {
      "cell_type": "code",
      "source": [
        "fruits = ['strawberry', 'fig', 'apple', 'cherry', 'raspbrry', 'banana']\n",
        "sorted(fruits, key=len)\n",
        "\n",
        "def reverse(word):\n",
        "    return word[::-1]\n",
        "\n",
        "reverse('testing')\n",
        "\n",
        "sorted(fruits, key = reverse)"
      ],
      "metadata": {
        "colab": {
          "base_uri": "https://localhost:8080/"
        },
        "id": "36VayD3bZZlj",
        "outputId": "d1493f91-8410-4c90-f663-dfc47aaf5cc1"
      },
      "execution_count": null,
      "outputs": [
        {
          "output_type": "execute_result",
          "data": {
            "text/plain": [
              "['banana', 'apple', 'fig', 'raspbrry', 'strawberry', 'cherry']"
            ]
          },
          "metadata": {},
          "execution_count": 5
        }
      ]
    },
    {
      "cell_type": "code",
      "source": [
        "list(map(fact, range(6)))\n",
        "[fact(n) for n in range(6)]\n",
        "list(map(factorial, filter(lambda n: n % 2, range(6))))\n",
        "[factorial(n) for n in range(6) if n % 2]"
      ],
      "metadata": {
        "colab": {
          "base_uri": "https://localhost:8080/"
        },
        "id": "wL8RKUpxZcUb",
        "outputId": "8ff6bc50-6e3c-4707-ab3f-a9848a51a1d1"
      },
      "execution_count": null,
      "outputs": [
        {
          "output_type": "execute_result",
          "data": {
            "text/plain": [
              "[1, 6, 120]"
            ]
          },
          "metadata": {},
          "execution_count": 6
        }
      ]
    },
    {
      "cell_type": "code",
      "source": [
        "fruits = ['strawberry', 'fig', 'apple', 'cherry', 'raspbrry', 'banana']\n",
        "\n",
        "sorted(fruits, key=lambda word: word[::-1])"
      ],
      "metadata": {
        "colab": {
          "base_uri": "https://localhost:8080/"
        },
        "id": "ZwZ7oR47Z4eJ",
        "outputId": "9c050b53-73b2-431b-b249-9da170110e8d"
      },
      "execution_count": null,
      "outputs": [
        {
          "output_type": "execute_result",
          "data": {
            "text/plain": [
              "['banana', 'apple', 'fig', 'raspbrry', 'strawberry', 'cherry']"
            ]
          },
          "metadata": {},
          "execution_count": 7
        }
      ]
    },
    {
      "cell_type": "code",
      "source": [
        "abs,str,13\n",
        "[callable(obj) for obj in (abs,str,13)]"
      ],
      "metadata": {
        "colab": {
          "base_uri": "https://localhost:8080/"
        },
        "id": "XDY7ShGcZ8pg",
        "outputId": "095b2b4c-7c50-4f5f-8b54-c6c381281b58"
      },
      "execution_count": null,
      "outputs": [
        {
          "output_type": "execute_result",
          "data": {
            "text/plain": [
              "[True, True, False]"
            ]
          },
          "metadata": {},
          "execution_count": 8
        }
      ]
    },
    {
      "cell_type": "code",
      "source": [
        "import random\n",
        "\n",
        "class BingoCage:\n",
        "    def __init__(self, items):\n",
        "        self._items = list(items)\n",
        "        random.shuffle(self._items)\n",
        "\n",
        "    def pick(self):\n",
        "        try:\n",
        "            return self._items.pop()\n",
        "        except:\n",
        "            raise LookupError('pick from empty BingoCage')\n",
        "\n",
        "    def __call__(self):\n",
        "        return self.pick()\n",
        "\n",
        "bingo = BingoCage(range(3))\n",
        "bingo.pick()\n",
        "bingo()\n",
        "callable(bingo)\n",
        "bingo()"
      ],
      "metadata": {
        "colab": {
          "base_uri": "https://localhost:8080/"
        },
        "id": "x6lUoagkZ8nX",
        "outputId": "02bf8473-62d5-45df-8064-62682121d3ca"
      },
      "execution_count": null,
      "outputs": [
        {
          "output_type": "execute_result",
          "data": {
            "text/plain": [
              "0"
            ]
          },
          "metadata": {},
          "execution_count": 9
        }
      ]
    },
    {
      "cell_type": "code",
      "source": [
        "def tag (name, *content, cls=None, **attrs):\n",
        "    \"\"\"하나 이상의 HTML 태그를 생성\"\"\"\n",
        "    if cls is not None:\n",
        "        attrs['class'] = cls\n",
        "    if attrs:\n",
        "        attr_str = ''.join('%s=\"%s\" % (attr, value)\n",
        "    else:\n",
        "        attr_str = ''\n",
        "    if content:\n",
        "        return '\\n'.join('<%s%s>%s</%s>' %\n",
        "                         (name, attr_str, c, name) for c in content)\n",
        "    else:\n",
        "        return '<%s %s />' % (name, attr_str)\n",
        "\n",
        "tag('br')\n",
        "tag('p', 'hello')\n",
        "tag('p', 'hello', 'world')\n",
        "tag('p', 'hello', id=33)\n",
        "tag('p', 'hello', 'world', cls='sidebar')\n",
        "tag(content='testing', name='img')\n",
        "my_tag = {'name': 'img', 'title': 'Sunset Boulevard',\n",
        "          'src': 'sunset.jpg', 'cls': 'framed'}\n",
        "tag(**my_tag)"
      ],
      "metadata": {
        "colab": {
          "base_uri": "https://localhost:8080/",
          "height": 112
        },
        "id": "T49SVYLjZ8lZ",
        "outputId": "4386c623-4ff1-4e42-87a1-4a0a7add1cd1"
      },
      "execution_count": null,
      "outputs": [
        {
          "output_type": "error",
          "ename": "SyntaxError",
          "evalue": "unterminated string literal (detected at line 6) (<ipython-input-10-cfeaad12c8d7>, line 6)",
          "traceback": [
            "\u001b[0;36m  File \u001b[0;32m\"<ipython-input-10-cfeaad12c8d7>\"\u001b[0;36m, line \u001b[0;32m6\u001b[0m\n\u001b[0;31m    attr_str = ''.join('%s=\"%s\" % (attr, value)\u001b[0m\n\u001b[0m                       ^\u001b[0m\n\u001b[0;31mSyntaxError\u001b[0m\u001b[0;31m:\u001b[0m unterminated string literal (detected at line 6)\n"
          ]
        }
      ]
    },
    {
      "cell_type": "code",
      "source": [
        "def f(a,*, b):\n",
        "    return a, b\n",
        "\n",
        "f(1, b=2)\n"
      ],
      "metadata": {
        "colab": {
          "base_uri": "https://localhost:8080/"
        },
        "id": "uqyfm8-cZ8je",
        "outputId": "b047f0f8-3343-41b0-d523-8bf3ad3077aa"
      },
      "execution_count": null,
      "outputs": [
        {
          "output_type": "execute_result",
          "data": {
            "text/plain": [
              "(1, 2)"
            ]
          },
          "metadata": {},
          "execution_count": 11
        }
      ]
    },
    {
      "cell_type": "code",
      "source": [
        "def create_user(name, *,age, is_admin = False):\n",
        "    print(f\"Name: {name},Age: {age},Admin: {is_admin}\")\n",
        "\n",
        "create_user(\"Alice\", age=30, is_admin = True)\n",
        "create_user(\"Bob\", 25)"
      ],
      "metadata": {
        "colab": {
          "base_uri": "https://localhost:8080/",
          "height": 205
        },
        "id": "pYeTpaJeZ8hd",
        "outputId": "6d6a4ab4-2269-4876-aae1-175902fbc6e0"
      },
      "execution_count": null,
      "outputs": [
        {
          "output_type": "stream",
          "name": "stdout",
          "text": [
            "Name: Alice,Age: 30,Admin: True\n"
          ]
        },
        {
          "output_type": "error",
          "ename": "TypeError",
          "evalue": "create_user() takes 1 positional argument but 2 were given",
          "traceback": [
            "\u001b[0;31m---------------------------------------------------------------------------\u001b[0m",
            "\u001b[0;31mTypeError\u001b[0m                                 Traceback (most recent call last)",
            "\u001b[0;32m<ipython-input-14-d93ba9cd773c>\u001b[0m in \u001b[0;36m<cell line: 5>\u001b[0;34m()\u001b[0m\n\u001b[1;32m      3\u001b[0m \u001b[0;34m\u001b[0m\u001b[0m\n\u001b[1;32m      4\u001b[0m \u001b[0mcreate_user\u001b[0m\u001b[0;34m(\u001b[0m\u001b[0;34m\"Alice\"\u001b[0m\u001b[0;34m,\u001b[0m \u001b[0mage\u001b[0m\u001b[0;34m=\u001b[0m\u001b[0;36m30\u001b[0m\u001b[0;34m,\u001b[0m \u001b[0mis_admin\u001b[0m \u001b[0;34m=\u001b[0m \u001b[0;32mTrue\u001b[0m\u001b[0;34m)\u001b[0m\u001b[0;34m\u001b[0m\u001b[0;34m\u001b[0m\u001b[0m\n\u001b[0;32m----> 5\u001b[0;31m \u001b[0mcreate_user\u001b[0m\u001b[0;34m(\u001b[0m\u001b[0;34m\"Bob\"\u001b[0m\u001b[0;34m,\u001b[0m \u001b[0;36m25\u001b[0m\u001b[0;34m)\u001b[0m\u001b[0;34m\u001b[0m\u001b[0;34m\u001b[0m\u001b[0m\n\u001b[0m",
            "\u001b[0;31mTypeError\u001b[0m: create_user() takes 1 positional argument but 2 were given"
          ]
        }
      ]
    },
    {
      "cell_type": "code",
      "source": [
        "def clip(text, max_len=80):\n",
        "    \"\"\"max_len 앞이나 뒤의 마지막 공백에서 잘라낸 텍스트를 반환\"\"\"\n",
        "    end = None\n",
        "    if len(text) > max_len:\n",
        "        space_before = text.rfind(' ', 0, max_len)\n",
        "        if space_before >= 0:\n",
        "            end = space_before\n",
        "    else:\n",
        "        space_after = text.rfind(' ', max_len)\n",
        "        if space_after >= 0:\n",
        "            end = space_after\n",
        "    if end is None:\n",
        "        end = len(text)\n",
        "    return text[:end].rstrip()\n",
        "\n",
        "    clip.__defaults__\n",
        "    clip.__code__\n",
        "    clip.__code__.co_varnames\n",
        "    clip.__code__.co_argcount"
      ],
      "metadata": {
        "id": "hQcogFRGZ8fv"
      },
      "execution_count": null,
      "outputs": []
    },
    {
      "cell_type": "code",
      "source": [
        "from inspect import signature\n",
        "\n",
        "sig = signature(clip)\n",
        "str(sig)\n",
        "for name, param in sig.parameters.items():\n",
        "    print(param.kind, ':', name, '=', param.default)"
      ],
      "metadata": {
        "colab": {
          "base_uri": "https://localhost:8080/"
        },
        "id": "jRNzCVeHZ8df",
        "outputId": "f4ab364d-8dde-4b01-ac36-6739c77a27e6"
      },
      "execution_count": null,
      "outputs": [
        {
          "output_type": "stream",
          "name": "stdout",
          "text": [
            "POSITIONAL_OR_KEYWORD : text = <class 'inspect._empty'>\n",
            "POSITIONAL_OR_KEYWORD : max_len = 80\n"
          ]
        }
      ]
    },
    {
      "cell_type": "code",
      "source": [
        "from inspect import signature\n",
        "sig = signature(tag)\n",
        "my_tag = {'name': 'img', 'title': 'Sunset Boulevard',\n",
        "          'src': 'sunset.jpg', 'cls': 'framed'}\n",
        "bound_args = sig.bind(**my_tag)\n",
        "bound_args\n",
        "from name, valuew in bound_args.arguments.items():\n",
        "    print(name, '=', value)\n",
        "del my_tag['name']"
      ],
      "metadata": {
        "colab": {
          "base_uri": "https://localhost:8080/",
          "height": 112
        },
        "id": "2xWSI3FzZ8bi",
        "outputId": "7fc9c348-7c8f-4549-990f-f3844750119d"
      },
      "execution_count": null,
      "outputs": [
        {
          "output_type": "error",
          "ename": "SyntaxError",
          "evalue": "invalid syntax (<ipython-input-16-6ef320960c57>, line 7)",
          "traceback": [
            "\u001b[0;36m  File \u001b[0;32m\"<ipython-input-16-6ef320960c57>\"\u001b[0;36m, line \u001b[0;32m7\u001b[0m\n\u001b[0;31m    from name, valuew in bound_args.arguments.items():\u001b[0m\n\u001b[0m             ^\u001b[0m\n\u001b[0;31mSyntaxError\u001b[0m\u001b[0;31m:\u001b[0m invalid syntax\n"
          ]
        }
      ]
    },
    {
      "cell_type": "code",
      "source": [
        "def clip_fa(text, max_len='80'):\n",
        "    end = None\n",
        "    if len(text) > max_len:\n",
        "        space_before = text.rfind(' ', 0, max_len)\n",
        "        if space_before >= 0:\n",
        "            end = space_before\n",
        "    else:\n",
        "        space_after = text.rfind(' ', max_len)\n",
        "        if space_after >= 0:\n",
        "            end = space_after\n",
        "    if  end is None:\n",
        "        end = len(text)\n",
        "    return text[:end].rstrip()\n",
        "\n",
        "clip_fa.__annotations__\n",
        "sig2 = signature(clip_fa)\n",
        "sig2.return_annotation\n",
        "for param in sig2.parameters.values():\n",
        "    note = repr(param.annotation).ljust(13)\n",
        "    print(note, ':', param.name, '=', param.default)"
      ],
      "metadata": {
        "colab": {
          "base_uri": "https://localhost:8080/"
        },
        "id": "RZoaEX3FZ8ZY",
        "outputId": "a57a9693-7354-436a-abf6-10c22d01f3ba"
      },
      "execution_count": null,
      "outputs": [
        {
          "output_type": "stream",
          "name": "stdout",
          "text": [
            "<class 'inspect._empty'> : text = <class 'inspect._empty'>\n",
            "<class 'inspect._empty'> : max_len = 80\n"
          ]
        }
      ]
    },
    {
      "cell_type": "code",
      "source": [
        "from functools import reduce\n",
        "def fact(n):\n",
        "    return reduce(lambda a, b: a*b, range(1, n+1))\n",
        "\n",
        "fact(10)\n",
        "\n",
        "from operator import mul\n",
        "def fact(n):\n",
        "    return reduce(mul, range(1, n+1))\n",
        "\n",
        "fact(10)"
      ],
      "metadata": {
        "colab": {
          "base_uri": "https://localhost:8080/"
        },
        "id": "iqJqpEOUZ8XK",
        "outputId": "f1e6bda0-1547-4ac0-cfe9-905343b55cf1"
      },
      "execution_count": null,
      "outputs": [
        {
          "output_type": "execute_result",
          "data": {
            "text/plain": [
              "3628800"
            ]
          },
          "metadata": {},
          "execution_count": 18
        }
      ]
    },
    {
      "cell_type": "code",
      "source": [
        "metro_data = [\n",
        "    ('Tokyo', 'JP', 36.933, (35.689722, 139.691667)),\n",
        "    ('Delhi NCR', 'IN', 21.935, (28.613889, 77.208889)),\n",
        "    ('Mexico City', 'MX', 20.142, (19.433333, -99.133333)),\n",
        "    ('New York-Newark', 'US', 20.104, (40.808611, -74.020386)),\n",
        "    ('Sao Paulo', 'BR', 19.649, (-23.547778, -46.635833)),\n",
        "]\n",
        "from operator import itemgetter\n",
        "for city in sorted(metro_data, key=itemgetter(1)):\n",
        "    print(city)\n",
        "\n",
        "cc_name = itemgetter(1, 0)\n",
        "for city in metro_data:\n",
        "    print(cc_name(city))"
      ],
      "metadata": {
        "colab": {
          "base_uri": "https://localhost:8080/"
        },
        "id": "FQe5rZU3Z8PS",
        "outputId": "f5b430df-4795-4f17-d66d-1249af3010e6"
      },
      "execution_count": null,
      "outputs": [
        {
          "output_type": "stream",
          "name": "stdout",
          "text": [
            "('Sao Paulo', 'BR', 19.649, (-23.547778, -46.635833))\n",
            "('Delhi NCR', 'IN', 21.935, (28.613889, 77.208889))\n",
            "('Tokyo', 'JP', 36.933, (35.689722, 139.691667))\n",
            "('Mexico City', 'MX', 20.142, (19.433333, -99.133333))\n",
            "('New York-Newark', 'US', 20.104, (40.808611, -74.020386))\n",
            "('JP', 'Tokyo')\n",
            "('IN', 'Delhi NCR')\n",
            "('MX', 'Mexico City')\n",
            "('US', 'New York-Newark')\n",
            "('BR', 'Sao Paulo')\n"
          ]
        }
      ]
    },
    {
      "cell_type": "code",
      "source": [
        "from collections import namedtuple\n",
        "LatLong = namedtuple('LatLong', 'lat long')\n",
        "Metropolis = namedtuple('Metropolis', 'name cc pop coord')\n",
        "metro_areas = [Metropolis(name, cc, pop, LatLong(lat, long))\n",
        "               for name, cc, pop, (lat, long) in metro_data]\n",
        "metro_areas[0]\n",
        "metro_areas[0].coord.lat\n",
        "from operator import attrgetter\n",
        "name_lat = attrgetter('name', 'coord.lat')\n",
        "name_lat(metro_areas[0])\n",
        "\n",
        "for city in sorted(metro_areas, key=attrgetter('coord.lat')):\n",
        "    print(name_lat(city))\n",
        "\n",
        "metro_areas2 = [Metropolis(name, cc,pop, LatLong(*loc))\n",
        "            for name, cc, pop, (lat, long) in metro_data]\n",
        "metro_areas2[0]\n",
        "\n"
      ],
      "metadata": {
        "colab": {
          "base_uri": "https://localhost:8080/",
          "height": 448
        },
        "id": "MSTfCwWkZ8Em",
        "outputId": "2db60771-c995-4794-c7db-ea7496112a3c"
      },
      "execution_count": null,
      "outputs": [
        {
          "output_type": "stream",
          "name": "stdout",
          "text": [
            "('Sao Paulo', -23.547778)\n",
            "('Mexico City', 19.433333)\n",
            "('Delhi NCR', 28.613889)\n",
            "('Tokyo', 35.689722)\n",
            "('New York-Newark', 40.808611)\n"
          ]
        },
        {
          "output_type": "error",
          "ename": "NameError",
          "evalue": "name 'loc' is not defined",
          "traceback": [
            "\u001b[0;31m---------------------------------------------------------------------------\u001b[0m",
            "\u001b[0;31mNameError\u001b[0m                                 Traceback (most recent call last)",
            "\u001b[0;32m<ipython-input-20-e72bdc8152dc>\u001b[0m in \u001b[0;36m<cell line: 15>\u001b[0;34m()\u001b[0m\n\u001b[1;32m     13\u001b[0m     \u001b[0mprint\u001b[0m\u001b[0;34m(\u001b[0m\u001b[0mname_lat\u001b[0m\u001b[0;34m(\u001b[0m\u001b[0mcity\u001b[0m\u001b[0;34m)\u001b[0m\u001b[0;34m)\u001b[0m\u001b[0;34m\u001b[0m\u001b[0;34m\u001b[0m\u001b[0m\n\u001b[1;32m     14\u001b[0m \u001b[0;34m\u001b[0m\u001b[0m\n\u001b[0;32m---> 15\u001b[0;31m metro_areas2 = [Metropolis(name, cc,pop, LatLong(*loc))\n\u001b[0m\u001b[1;32m     16\u001b[0m             for name, cc, pop, (lat, long) in metro_data]\n\u001b[1;32m     17\u001b[0m \u001b[0mmetro_areas2\u001b[0m\u001b[0;34m[\u001b[0m\u001b[0;36m0\u001b[0m\u001b[0;34m]\u001b[0m\u001b[0;34m\u001b[0m\u001b[0;34m\u001b[0m\u001b[0m\n",
            "\u001b[0;32m<ipython-input-20-e72bdc8152dc>\u001b[0m in \u001b[0;36m<listcomp>\u001b[0;34m(.0)\u001b[0m\n\u001b[1;32m     13\u001b[0m     \u001b[0mprint\u001b[0m\u001b[0;34m(\u001b[0m\u001b[0mname_lat\u001b[0m\u001b[0;34m(\u001b[0m\u001b[0mcity\u001b[0m\u001b[0;34m)\u001b[0m\u001b[0;34m)\u001b[0m\u001b[0;34m\u001b[0m\u001b[0;34m\u001b[0m\u001b[0m\n\u001b[1;32m     14\u001b[0m \u001b[0;34m\u001b[0m\u001b[0m\n\u001b[0;32m---> 15\u001b[0;31m metro_areas2 = [Metropolis(name, cc,pop, LatLong(*loc))\n\u001b[0m\u001b[1;32m     16\u001b[0m             for name, cc, pop, (lat, long) in metro_data]\n\u001b[1;32m     17\u001b[0m \u001b[0mmetro_areas2\u001b[0m\u001b[0;34m[\u001b[0m\u001b[0;36m0\u001b[0m\u001b[0;34m]\u001b[0m\u001b[0;34m\u001b[0m\u001b[0;34m\u001b[0m\u001b[0m\n",
            "\u001b[0;31mNameError\u001b[0m: name 'loc' is not defined"
          ]
        }
      ]
    },
    {
      "cell_type": "code",
      "source": [
        "from operator import methodcaller\n",
        "s = 'The time has come'\n",
        "upcase = methodcaller('upper')\n",
        "upcase(s)\n",
        "s.upper()\n",
        "hiphenate = methodcaller('replace', ' ', '-')\n",
        "hiphenate(s)"
      ],
      "metadata": {
        "colab": {
          "base_uri": "https://localhost:8080/",
          "height": 36
        },
        "id": "CBR0l5PfgmHW",
        "outputId": "066eb87c-5237-4686-968c-ed1d72c8ba70"
      },
      "execution_count": null,
      "outputs": [
        {
          "output_type": "execute_result",
          "data": {
            "text/plain": [
              "'The-time-has-come'"
            ],
            "application/vnd.google.colaboratory.intrinsic+json": {
              "type": "string"
            }
          },
          "metadata": {},
          "execution_count": 21
        }
      ]
    },
    {
      "cell_type": "code",
      "source": [
        "from operator import mul\n",
        "from functools import partial\n",
        "triple = partial(mul, 3)\n",
        "triple(7)\n",
        "list(map(triple, range(1, 10)))"
      ],
      "metadata": {
        "colab": {
          "base_uri": "https://localhost:8080/"
        },
        "id": "mfqks9WVgmFE",
        "outputId": "69a1eba6-4cca-435c-ff3a-c04ca1ab3e07"
      },
      "execution_count": null,
      "outputs": [
        {
          "output_type": "execute_result",
          "data": {
            "text/plain": [
              "[3, 6, 9, 12, 15, 18, 21, 24, 27]"
            ]
          },
          "metadata": {},
          "execution_count": 2
        }
      ]
    },
    {
      "cell_type": "code",
      "source": [
        "import unicodedata\n",
        "nfc = partial(unicodedata.normalize, 'NFC')\n",
        "s1 = 'café'\n",
        "s2 = 'cafe\\u0301'\n",
        "s1, s2\n",
        "s1 == s2\n",
        "nfc(s1) == nfc(s2)\n",
        "picture = partial(tag, 'img', cls='pic-frame')\n",
        "picture(src='wumpus.jpeg')\n",
        "tag , picture, picture.functions, picture.args, picture.keywords"
      ],
      "metadata": {
        "colab": {
          "base_uri": "https://localhost:8080/",
          "height": 224
        },
        "id": "wWQwXtAKgy0e",
        "outputId": "b14e308a-d336-4ede-8db1-aa09a8fd87cd"
      },
      "execution_count": null,
      "outputs": [
        {
          "output_type": "error",
          "ename": "NameError",
          "evalue": "name 'partial' is not defined",
          "traceback": [
            "\u001b[0;31m---------------------------------------------------------------------------\u001b[0m",
            "\u001b[0;31mNameError\u001b[0m                                 Traceback (most recent call last)",
            "\u001b[0;32m<ipython-input-1-22c4d2ac683b>\u001b[0m in \u001b[0;36m<cell line: 2>\u001b[0;34m()\u001b[0m\n\u001b[1;32m      1\u001b[0m \u001b[0;32mimport\u001b[0m \u001b[0municodedata\u001b[0m\u001b[0;34m\u001b[0m\u001b[0;34m\u001b[0m\u001b[0m\n\u001b[0;32m----> 2\u001b[0;31m \u001b[0mnfc\u001b[0m \u001b[0;34m=\u001b[0m \u001b[0mpartial\u001b[0m\u001b[0;34m(\u001b[0m\u001b[0municodedata\u001b[0m\u001b[0;34m.\u001b[0m\u001b[0mnormalize\u001b[0m\u001b[0;34m,\u001b[0m \u001b[0;34m'NFC'\u001b[0m\u001b[0;34m)\u001b[0m\u001b[0;34m\u001b[0m\u001b[0;34m\u001b[0m\u001b[0m\n\u001b[0m\u001b[1;32m      3\u001b[0m \u001b[0ms1\u001b[0m \u001b[0;34m=\u001b[0m \u001b[0;34m'café'\u001b[0m\u001b[0;34m\u001b[0m\u001b[0;34m\u001b[0m\u001b[0m\n\u001b[1;32m      4\u001b[0m \u001b[0ms2\u001b[0m \u001b[0;34m=\u001b[0m \u001b[0;34m'cafe\\u0301'\u001b[0m\u001b[0;34m\u001b[0m\u001b[0;34m\u001b[0m\u001b[0m\n\u001b[1;32m      5\u001b[0m \u001b[0ms1\u001b[0m\u001b[0;34m,\u001b[0m \u001b[0ms2\u001b[0m\u001b[0;34m\u001b[0m\u001b[0;34m\u001b[0m\u001b[0m\n",
            "\u001b[0;31mNameError\u001b[0m: name 'partial' is not defined"
          ]
        }
      ]
    }
  ],
  "metadata": {
    "colab": {
      "toc_visible": true,
      "provenance": []
    },
    "kernelspec": {
      "display_name": "Python 3",
      "name": "python3"
    }
  },
  "nbformat": 4,
  "nbformat_minor": 0
}