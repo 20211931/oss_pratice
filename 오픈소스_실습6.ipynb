{
  "cells": [
    {
      "cell_type": "code",
      "source": [
        "def factorial(n):\n",
        "    if n < 2:\n",
        "        return 1\n",
        "    else:\n",
        "        return n * factorial(n-1)\n",
        "\n",
        "print(factorial(42))\n",
        "factorial.__doc__\n",
        "type(factorial)\n",
        "help(factorial)\n",
        "\n",
        "fact = factorial\n",
        "fact\n",
        "fact(5)\n",
        "map(factorial, range(11))\n",
        "list(map(fact, range(11)))"
      ],
      "metadata": {
        "id": "yF4nJ1iuX5X6"
      },
      "execution_count": null,
      "outputs": []
    },
    {
      "cell_type": "code",
      "source": [
        "fruits = ['strawberry', 'fig', 'apple', 'cherry', 'raspbrry', 'banana']\n",
        "sorted(fruits, key=len)\n",
        "\n",
        "def reverse(word):\n",
        "return word[::-1]\n",
        "\n",
        "reverse('testing')\n",
        "\n",
        "sorted(fruits, key = reverse)"
      ],
      "metadata": {
        "id": "36VayD3bZZlj"
      },
      "execution_count": null,
      "outputs": []
    },
    {
      "cell_type": "code",
      "source": [
        "list(map(fact, range(6)))\n",
        "[fact(n) for n in range(6)]\n",
        "list(map(factorial, filter(lambda n: n % 2, range(6))))\n",
        "[factorial(n) for n in range(6) if n % 2]"
      ],
      "metadata": {
        "id": "wL8RKUpxZcUb"
      },
      "execution_count": null,
      "outputs": []
    },
    {
      "cell_type": "code",
      "source": [
        "fruits = ['strawberry', 'fig', 'apple', 'cherry', 'raspbrry', 'banana']\n",
        "\n",
        "sorted(fruits, key=lambda word: word[::-1])"
      ],
      "metadata": {
        "id": "ZwZ7oR47Z4eJ"
      },
      "execution_count": null,
      "outputs": []
    },
    {
      "cell_type": "code",
      "source": [
        "abs,str,13\n",
        "[callable(obj) for obj in (abs,str,13)]"
      ],
      "metadata": {
        "id": "XDY7ShGcZ8pg"
      },
      "execution_count": null,
      "outputs": []
    },
    {
      "cell_type": "code",
      "source": [
        "import random\n",
        "\n",
        "class BingoCage:\n",
        "def __init__(self, items):\n",
        "    self._items = list(items)\n",
        "    random.shuffle(self._items)\n",
        "\n",
        "def pick(self):\n",
        "    try:\n",
        "        return self._items.pop()\n",
        "    except:\n",
        "        raise LookupError('pick from empty BingoCage')\n",
        "\n",
        "def __call__(self):\n",
        "    return self.pick()\n",
        "\n",
        "bingo = BingoCage(range(3))\n",
        "bingo.pick()\n",
        "bingo()\n",
        "callable(bingo)\n",
        "bingo()"
      ],
      "metadata": {
        "id": "x6lUoagkZ8nX"
      },
      "execution_count": null,
      "outputs": []
    },
    {
      "cell_type": "code",
      "source": [
        "def tag (name, *content, cls=None, **attrs):\n",
        "    \"\"\"하나 이상의 HTML 태그를 생성\"\"\"\n",
        "    if cls is not None:\n",
        "        attrs['class'] = cls\n",
        "    if attrs:\n",
        "        attr_str = ''.join('%s=\"%s\" % (attr, value)\n",
        "    else:\n",
        "        attr_str = ''\n",
        "    if content:\n",
        "        return '\\n'.join('<%s%s>%s</%s>' %\n",
        "                         (name, attr_str, c, name) for c in content)\n",
        "    else:\n",
        "        return '<%s %s />' % (name, attr_str)\n",
        "\n",
        "tag('br')\n",
        "tag('p', 'hello')\n",
        "tag('p', 'hello', 'world')\n",
        "tag('p', 'hello', id=33)\n",
        "tag('p', 'hello', 'world', cls='sidebar')\n",
        "tag(content='testing', name='img')\n",
        "my_tag = {'name': 'img', 'title': 'Sunset Boulevard',\n",
        "          'src': 'sunset.jpg', 'cls': 'framed'}\n",
        "tag(**my_tag)"
      ],
      "metadata": {
        "id": "T49SVYLjZ8lZ"
      },
      "execution_count": null,
      "outputs": []
    },
    {
      "cell_type": "code",
      "source": [
        "def f(a,*, b):\n",
        "    return a, b\n",
        "\n",
        "f(1, b=2)\n"
      ],
      "metadata": {
        "id": "uqyfm8-cZ8je"
      },
      "execution_count": null,
      "outputs": []
    },
    {
      "cell_type": "code",
      "source": [
        "def create_user(name, *,age, is_admin = False):\n",
        "    print(f\"Name: {name},Age: {age},Admin: {is_admin}\")\n",
        "\n",
        "create_user()\"Alice\", age=30, is_admin = True)\n",
        "create_user(\"Bob\", 25)"
      ],
      "metadata": {
        "id": "pYeTpaJeZ8hd"
      },
      "execution_count": null,
      "outputs": []
    },
    {
      "cell_type": "code",
      "source": [
        "def clip(text, max_len=80):\n",
        "    \"\"\"max_len 앞이나 뒤의 마지막 공백에서 잘라낸 텍스트를 반환\"\"\"\n",
        "    end = None\n",
        "    if len(text) > max_len:\n",
        "        space_before = text.rfind(' ', 0, max_len)\n",
        "        if space_before >= 0:\n",
        "            end = space_before\n",
        "    else:\n",
        "        space_after = text.rfind(' ', max_len)\n",
        "        if space_after >= 0:\n",
        "            end = space_after\n",
        "    if end is None:\n",
        "        end = len(text)\n",
        "    return text[:end].rstrip()\n",
        "\n",
        "    clip.__defaults__\n",
        "    clip.__code__\n",
        "    clip.__code__.co_varnames\n",
        "    clip.__code__.co_argcount"
      ],
      "metadata": {
        "id": "hQcogFRGZ8fv"
      },
      "execution_count": null,
      "outputs": []
    },
    {
      "cell_type": "code",
      "source": [
        "from inspect import signature\n",
        "\n",
        "sig = signature(clip)\n",
        "str(sig)\n",
        "for name, param in sig.parameters.items():\n",
        "    print(param.kind, ':', name, '=', param.default)"
      ],
      "metadata": {
        "id": "jRNzCVeHZ8df"
      },
      "execution_count": null,
      "outputs": []
    },
    {
      "cell_type": "code",
      "source": [
        "from inspect import signature\n",
        "sig = signature(tag)\n",
        "my_tag = {'name': 'img', 'title': 'Sunset Boulevard',\n",
        "          'src': 'sunset.jpg', 'cls': 'framed'}\n",
        "bound_args = sig.bind(**my_tag)\n",
        "bound_args\n",
        "from name, valuew in bound_args.arguments.items():\n",
        "    print(name, '=', value)\n",
        "del my_tag['name']"
      ],
      "metadata": {
        "id": "2xWSI3FzZ8bi"
      },
      "execution_count": null,
      "outputs": []
    },
    {
      "cell_type": "code",
      "source": [
        "def clip_fa(text, max_len='80'):\n",
        "    end = None\n",
        "    if len(text) > max_len:\n",
        "        space_before = text.rfind(' ', 0, max_len)\n",
        "        if space_before >= 0:\n",
        "            end = space_before\n",
        "    else:\n",
        "        space_after = text.rfind(' ', max_len)\n",
        "        if space_after >= 0:\n",
        "            end = space_after\n",
        "    if  end is None:\n",
        "        end = len(text)\n",
        "    return text[:end].rstrip()\n",
        "\n",
        "clip_fa.__annotations__\n",
        "sig2 = signature(clip_fa)\n",
        "sig2.return_annotation\n",
        "for param in sig2.parameters.values():\n",
        "    note = repr(param.annotation).ljust(13)\n",
        "    print(note, ':', param.name, '=', param.default)"
      ],
      "metadata": {
        "id": "RZoaEX3FZ8ZY"
      },
      "execution_count": null,
      "outputs": []
    },
    {
      "cell_type": "code",
      "source": [
        "from functools import reduce\n",
        "def fact(n):\n",
        "    return reduce(lambda a, b: a*b, range(1, n+1))\n",
        "\n",
        "fact(10)\n",
        "\n",
        "from operator import mul\n",
        "def fact(n):\n",
        "    return reduce(mul, range(1, n+1))\n",
        "\n",
        "fact(10)"
      ],
      "metadata": {
        "id": "iqJqpEOUZ8XK"
      },
      "execution_count": null,
      "outputs": []
    },
    {
      "cell_type": "code",
      "source": [
        "metro_data = [\n",
        "    ('Tokyo', 'JP', 36.933, (35.689722, 139.691667)),\n",
        "    ('Delhi NCR', 'IN', 21.935, (28.613889, 77.208889)),\n",
        "    ('Mexico City', 'MX', 20.142, (19.433333, -99.133333)),\n",
        "    ('New York-Newark', 'US', 20.104, (40.808611, -74.020386)),\n",
        "    ('Sao Paulo', 'BR', 19.649, (-23.547778, -46.635833)),\n",
        "]\n",
        "from operator import itemgetter\n",
        "for city in sorted(metro_data, key=itemgetter(1)):\n",
        "    print(city)\n",
        "\n",
        "cc_name = itemgetter(1, 0)\n",
        "for city in metro_data:\n",
        "    print(cc_name(city))"
      ],
      "metadata": {
        "id": "FQe5rZU3Z8PS"
      },
      "execution_count": null,
      "outputs": []
    },
    {
      "cell_type": "code",
      "source": [
        "from collections import namedtuple\n",
        "LatLong = namedtuple('LatLong', 'lat long')\n",
        "Metropolis = namedtuple('Metropolis', 'name cc pop coord')\n",
        "metro_areas = [Metropolis(name, cc, pop, LatLong(lat, long))\n",
        "               for name, cc, pop, (lat, long) in metro_data]\n",
        "metro_areas[0]\n",
        "metro_areas[0].coord.lat\n",
        "from operator import attrgetter\n",
        "name_lat = attrgetter('name', 'coord.lat')\n",
        "name_lat(metro_areas[0])\n",
        "\n",
        "for city in sorted(metro_areas, key=attrgetter('coord.lat')):\n",
        "    print(name_lat(city))\n",
        "\n",
        "metro_areas2 = [Metropolis(name, cc,pop, LatLong(*loc))\n",
        "            for name, cc, pop, (lat, long) in metro_data]\n",
        "metro_areas2[0]\n",
        "\n"
      ],
      "metadata": {
        "id": "MSTfCwWkZ8Em"
      },
      "execution_count": null,
      "outputs": []
    },
    {
      "cell_type": "code",
      "source": [
        "from operator import methodcaller\n",
        "s = 'The time has come'\n",
        "upcase = methodcaller('upper')\n",
        "upcase(s)\n",
        "s.upper()\n",
        "hiphenate = methodcaller('replace', ' ', '-')\n",
        "hiphenate(s)"
      ],
      "metadata": {
        "id": "CBR0l5PfgmHW"
      },
      "execution_count": null,
      "outputs": []
    },
    {
      "cell_type": "code",
      "source": [
        "from operator import mul\n",
        "from functools import partial\n",
        "triple = partial(mul, 3)\n",
        "triple(7)\n",
        "list(map(triple, range(1, 10)))"
      ],
      "metadata": {
        "id": "mfqks9WVgmFE"
      },
      "execution_count": null,
      "outputs": []
    },
    {
      "cell_type": "code",
      "source": [
        "import unicodedata\n",
        "nfc = partial(unicodedata.normalize, 'NFC')\n",
        "s1 = 'café'\n",
        "s2 = 'cafe\\u0301'\n",
        "s1, s2\n",
        "s1 == s2\n",
        "nfc(s1) == nfc(s2)\n",
        "picture = partial(tag, 'img', cls='pic-frame')\n",
        "picture(src='wumpus.jpeg')\n",
        "tag , picture, picture.functions, picture.args, picture.keywords"
      ],
      "metadata": {
        "id": "wWQwXtAKgy0e"
      },
      "execution_count": null,
      "outputs": []
    }
  ],
  "metadata": {
    "colab": {
      "name": "Colaboratory에 오신 것을 환영합니다",
      "toc_visible": true,
      "provenance": []
    },
    "kernelspec": {
      "display_name": "Python 3",
      "name": "python3"
    }
  },
  "nbformat": 4,
  "nbformat_minor": 0
}