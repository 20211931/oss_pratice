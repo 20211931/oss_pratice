{
 "cells": [
  {
   "cell_type": "markdown",
   "id": "a5e95b2f",
   "metadata": {},
   "source": [
    "DIAL_CODES = [\n",
    "  (86, 'China'),\n",
    "  (91, 'India'),\n",
    "  (1, 'United States'),\n",
    "  (55, 'Brazil'),\n",
    "  (7, 'Russia'),\n",
    "]"
   ]
  },
  {
   "cell_type": "markdown",
   "id": "c3ecc581",
   "metadata": {},
   "source": [
    "country_code = {country: code for code, country in DIAL_CODES}\n",
    "country_code"
   ]
  },
  {
   "cell_type": "markdown",
   "id": "4df3c5b4",
   "metadata": {},
   "source": [
    "{code:country.upper() for country, code in country_code.items()\n",
    "  if code<66}"
   ]
  },
  {
   "cell_type": "code",
   "execution_count": null,
   "id": "c934c06d",
   "metadata": {},
   "outputs": [],
   "source": []
  },
  {
   "cell_type": "markdown",
   "id": "3147f76e",
   "metadata": {},
   "source": [
    "import sys, re"
   ]
  },
  {
   "cell_type": "markdown",
   "id": "47c697b2",
   "metadata": {},
   "source": [
    "WORD_RE = re.compile(r'\\w+')\n",
    "index={}\n",
    "with open(\"sejong.txt\", encoding='utf-8')as fp:\n",
    "  for line_no, line in enumerate(fp , 1):\n",
    "    for match in WORD_RE.finditer(line):\n",
    "      word = match.group()\n",
    "      column_no = match.start() + 1\n",
    "      location = (line_no, column_no)\n",
    "      occurence = index.get(word, [])\n",
    "      occurence.append(location)\n",
    "      index[word] = occurence"
   ]
  },
  {
   "cell_type": "markdown",
   "id": "0f583dca",
   "metadata": {},
   "source": [
    "for word in sorted(index, key=str.upper):\n",
    "  print(word, index[word])"
   ]
  },
  {
   "cell_type": "code",
   "execution_count": null,
   "id": "13662e45",
   "metadata": {
    "lines_to_next_cell": 2
   },
   "outputs": [],
   "source": []
  },
  {
   "cell_type": "markdown",
   "id": "ed760463",
   "metadata": {},
   "source": [
    "import sys, re"
   ]
  },
  {
   "cell_type": "markdown",
   "id": "d2bab1cb",
   "metadata": {},
   "source": [
    "WORD_RE = re.compile(r'\\w+')\n",
    "index={}\n",
    "with open(\"sejong.txt\", encoding='utf-8')as fp:\n",
    "  for line_no, line in enumerate(fp , 1):\n",
    "    for match in WORD_RE.finditer(line):\n",
    "      word = match.group()\n",
    "      column_no = match.start() + 1\n",
    "      location = (line_no, column_no)\n",
    "      index.setdefault(word,[]).append(location)"
   ]
  },
  {
   "cell_type": "markdown",
   "id": "c42ae025",
   "metadata": {},
   "source": [
    "for word in sorted(index, key=str.upper):\n",
    "  print(word, index[word])"
   ]
  },
  {
   "cell_type": "code",
   "execution_count": null,
   "id": "7ebb9657",
   "metadata": {},
   "outputs": [],
   "source": []
  },
  {
   "cell_type": "markdown",
   "id": "f2ccb8f5",
   "metadata": {},
   "source": [
    "import sys,re, collections "
   ]
  },
  {
   "cell_type": "markdown",
   "id": "006fd3c6",
   "metadata": {},
   "source": [
    "WORD_RE = re.compile(r'\\w+')"
   ]
  },
  {
   "cell_type": "markdown",
   "id": "04015e6a",
   "metadata": {},
   "source": [
    "index = collections.defaultdict(list)"
   ]
  },
  {
   "cell_type": "markdown",
   "id": "9e097bf3",
   "metadata": {},
   "source": [
    "with open(\"sejong.txt\", encoding='utf-8')as fp:\n",
    "   for line_no, line in enumerate(fp , 1):    \n",
    "     for match in WORD_RE.finditer(line):\n",
    "      word = match.group()\n",
    "      column_no = match.start() + 1\n",
    "      location = (line_no, column_no)\n",
    "      index[word].append(location)"
   ]
  },
  {
   "cell_type": "markdown",
   "id": "1c1ff3c0",
   "metadata": {},
   "source": [
    "for word in sorted(index, key =str.upper):\n",
    "  print(word, index[word])"
   ]
  },
  {
   "cell_type": "code",
   "execution_count": null,
   "id": "edbe9008",
   "metadata": {
    "lines_to_next_cell": 2
   },
   "outputs": [],
   "source": []
  },
  {
   "cell_type": "markdown",
   "id": "7416cd1a",
   "metadata": {},
   "source": [
    "class StrKeyDict0(dict):"
   ]
  },
  {
   "cell_type": "markdown",
   "id": "82d21a74",
   "metadata": {},
   "source": [
    "  def __missing__(self, key):\n",
    "    if isinstance(key,str):\n",
    "      raise KeyError(key)\n",
    "    return self[str(key)]"
   ]
  },
  {
   "cell_type": "markdown",
   "id": "7e03f1c4",
   "metadata": {},
   "source": [
    "  def get(self, key, default = None):\n",
    "    try : \n",
    "      return self[key]\n",
    "    except KeyError:\n",
    "      return default"
   ]
  },
  {
   "cell_type": "markdown",
   "id": "693a013b",
   "metadata": {},
   "source": [
    "  def __contains__(self, key):\n",
    "    return key in self.keys() or str(key) in self.keys()"
   ]
  },
  {
   "cell_type": "markdown",
   "id": "93881899",
   "metadata": {},
   "source": [
    "d = StrKeyDict0([('2', 'two') , ('4', 'four')])\n",
    "d['2']"
   ]
  },
  {
   "cell_type": "markdown",
   "id": "a16b0035",
   "metadata": {},
   "source": [
    "d[4]"
   ]
  },
  {
   "cell_type": "markdown",
   "id": "376b21a2",
   "metadata": {},
   "source": [
    "d.get('2')"
   ]
  },
  {
   "cell_type": "markdown",
   "id": "01dfcae4",
   "metadata": {},
   "source": [
    "d.get(4)"
   ]
  },
  {
   "cell_type": "markdown",
   "id": "2ccae20a",
   "metadata": {},
   "source": [
    "d.get(1,'N/A')"
   ]
  },
  {
   "cell_type": "markdown",
   "id": "1f35d221",
   "metadata": {},
   "source": [
    "2 in d"
   ]
  },
  {
   "cell_type": "code",
   "execution_count": null,
   "id": "444679ff",
   "metadata": {
    "lines_to_next_cell": 2
   },
   "outputs": [],
   "source": []
  },
  {
   "cell_type": "markdown",
   "id": "86d85548",
   "metadata": {},
   "source": [
    "import builtins\n",
    "pylookup = ChainMap(locals(), globals(), vars(builtins))"
   ]
  },
  {
   "cell_type": "markdown",
   "id": "be515ebe",
   "metadata": {},
   "source": [
    "ct = collections.Counter('abracadabra')\n",
    "ct"
   ]
  },
  {
   "cell_type": "markdown",
   "id": "59e679ea",
   "metadata": {},
   "source": [
    "ct.update('aaaaazzz')\n",
    "ct"
   ]
  },
  {
   "cell_type": "markdown",
   "id": "06f95c8c",
   "metadata": {
    "lines_to_next_cell": 2
   },
   "source": [
    "ct.most_common(2)"
   ]
  },
  {
   "cell_type": "markdown",
   "id": "bca4fa58",
   "metadata": {},
   "source": [
    "class StrKeyDict(collections.UserDict):"
   ]
  },
  {
   "cell_type": "markdown",
   "id": "92c7dd05",
   "metadata": {},
   "source": [
    "  def __missing__(self, key):\n",
    "    if isinstance(key, str):\n",
    "      raise KeyError(key)\n",
    "    return self[str(key)]"
   ]
  },
  {
   "cell_type": "markdown",
   "id": "b6f1fc49",
   "metadata": {},
   "source": [
    "  def __contains__(self, key):\n",
    "    return str(key) in self.data"
   ]
  },
  {
   "cell_type": "markdown",
   "id": "b36dc563",
   "metadata": {},
   "source": [
    "  def __setitem__(self ,key, item):\n",
    "    self.data[str(key)] = item"
   ]
  },
  {
   "cell_type": "code",
   "execution_count": null,
   "id": "08fe526f",
   "metadata": {
    "lines_to_next_cell": 2
   },
   "outputs": [],
   "source": []
  },
  {
   "cell_type": "markdown",
   "id": "eed3c97a",
   "metadata": {},
   "source": [
    "from types import MappingProxyType\n",
    "d = {1: 'A'}\n",
    "d_proxy = MappingProxyType(d)"
   ]
  },
  {
   "cell_type": "markdown",
   "id": "4f2d2dde",
   "metadata": {},
   "source": [
    "d_proxy"
   ]
  },
  {
   "cell_type": "markdown",
   "id": "120f6a1d",
   "metadata": {},
   "source": [
    "d_proxy[1]"
   ]
  },
  {
   "cell_type": "markdown",
   "id": "c186852b",
   "metadata": {},
   "source": [
    "d_proxy[2] = 'x'"
   ]
  },
  {
   "cell_type": "markdown",
   "id": "91762172",
   "metadata": {},
   "source": [
    "d[2] = 'B'\n",
    "d_proxy"
   ]
  },
  {
   "cell_type": "code",
   "execution_count": null,
   "id": "336bc9a5",
   "metadata": {},
   "outputs": [],
   "source": []
  },
  {
   "cell_type": "markdown",
   "id": "df24073b",
   "metadata": {},
   "source": [
    "l = [\"spam\", \"spam\", \"eggs\", \"spam\"]\n",
    "set(l)"
   ]
  },
  {
   "cell_type": "markdown",
   "id": "0a215380",
   "metadata": {},
   "source": [
    "list(set(l))"
   ]
  },
  {
   "cell_type": "markdown",
   "id": "9b8971bb",
   "metadata": {},
   "source": [
    "l = set([\"spam, \"spam\", \"eggs\", \"spam\", \"eggs\", \"meats\", \"onions\", \"onions\"])\n",
    "m = set([\"eggs\", \"onions\"])"
   ]
  },
  {
   "cell_type": "markdown",
   "id": "6b8f4e16",
   "metadata": {},
   "source": [
    "found = len(l&m)\n",
    "found"
   ]
  },
  {
   "cell_type": "markdown",
   "id": "c2797ac2",
   "metadata": {},
   "source": [
    "found = 0\n",
    "for n in m:\n",
    "        if n in l:\n",
    "         found +=1\n",
    "found"
   ]
  },
  {
   "cell_type": "markdown",
   "id": "4c7df82b",
   "metadata": {},
   "source": [
    "found = len(l.intersection(m))\n",
    "found"
   ]
  },
  {
   "cell_type": "markdown",
   "id": "d6931c1b",
   "metadata": {},
   "source": [
    "s = {1}\n",
    "print(type(s))\n",
    "print(s)"
   ]
  },
  {
   "cell_type": "markdown",
   "id": "8e7f2961",
   "metadata": {},
   "source": [
    "s.pop()\n",
    "print(s)"
   ]
  },
  {
   "cell_type": "markdown",
   "id": "1ddb8f72",
   "metadata": {},
   "source": [
    "<class 'set'>\n",
    "{1}\n",
    "set()"
   ]
  },
  {
   "cell_type": "code",
   "execution_count": null,
   "id": "7304446f",
   "metadata": {},
   "outputs": [],
   "source": []
  },
  {
   "cell_type": "markdown",
   "id": "d4373154",
   "metadata": {},
   "source": [
    "from unicodedata import name\n",
    "{chr(i) for i in range(32, 256) if 'SIGN' in name(chr(i), '')}"
   ]
  },
  {
   "cell_type": "code",
   "execution_count": null,
   "id": "c6dc9f12",
   "metadata": {},
   "outputs": [],
   "source": []
  },
  {
   "cell_type": "markdown",
   "id": "01927fe4",
   "metadata": {},
   "source": [
    " DIAL_CODES = [\n",
    "   (86, 'China'),\n",
    "   (91, 'India'),\n",
    "   (1, 'United States'),\n",
    "   (92, 'Pakistan'),\n",
    "   (7, 'Russia')\n",
    " ]"
   ]
  },
  {
   "cell_type": "markdown",
   "id": "8e35a5e3",
   "metadata": {},
   "source": [
    "d1 = dict(DIAL_CODES)\n",
    "print(f'd1: {d1.keys()}')"
   ]
  },
  {
   "cell_type": "markdown",
   "id": "4a1d225a",
   "metadata": {},
   "source": [
    "d2 = dict(sorted(DIAL_CODES))\n",
    "print(f'd2: {d2.keys()}')"
   ]
  },
  {
   "cell_type": "markdown",
   "id": "f7138ce7",
   "metadata": {},
   "source": [
    "d3 = dict(sorted(DIAL_CODES, key = lambda x:x[1]))\n",
    "print(f'd3: {d3.keys()}')"
   ]
  },
  {
   "cell_type": "markdown",
   "id": "20fb6e53",
   "metadata": {},
   "source": [
    "assert d1 == d2 and d2 == d3"
   ]
  },
  {
   "cell_type": "markdown",
   "id": "16208a08",
   "metadata": {},
   "source": [
    "d1: dict_keys([82, 91, 1, 92, 7])\n",
    "d2: dict_keys([1, 7, 82, 91, 92])\n",
    "d3: dict_keys([91, 82, 92, 7, 1])"
   ]
  }
 ],
 "metadata": {
  "jupytext": {
   "cell_metadata_filter": "-all",
   "main_language": "python",
   "notebook_metadata_filter": "-all"
  }
 },
 "nbformat": 4,
 "nbformat_minor": 5
}
